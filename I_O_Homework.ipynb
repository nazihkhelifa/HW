{
  "nbformat": 4,
  "nbformat_minor": 0,
  "metadata": {
    "colab": {
      "name": "I/O Homework.ipynb",
      "provenance": [],
      "authorship_tag": "ABX9TyOqwP3gJvdQkgt7l2Mt+elP",
      "include_colab_link": true
    },
    "kernelspec": {
      "name": "python3",
      "display_name": "Python 3"
    },
    "language_info": {
      "name": "python"
    }
  },
  "cells": [
    {
      "cell_type": "markdown",
      "metadata": {
        "id": "view-in-github",
        "colab_type": "text"
      },
      "source": [
        "<a href=\"https://colab.research.google.com/github/nazihkhelifa/HW/blob/main/I_O_Homework.ipynb\" target=\"_parent\"><img src=\"https://colab.research.google.com/assets/colab-badge.svg\" alt=\"Open In Colab\"/></a>"
      ]
    },
    {
      "cell_type": "code",
      "execution_count": 11,
      "metadata": {
        "colab": {
          "base_uri": "https://localhost:8080/"
        },
        "id": "eMEjELuwTvfc",
        "outputId": "6035ee6c-2d62-42e2-8c19-5467f63f9a39"
      },
      "outputs": [
        {
          "output_type": "stream",
          "name": "stdout",
          "text": [
            "Ahmed Karim\n",
            "Mohamed Mostafa\n",
            "Rashid Hmed\n",
            "\n"
          ]
        }
      ],
      "source": [
        "#Read all of the content of the file in one variable.\n",
        "\n",
        "file = open('/content/sample_data/txt.txt')\n",
        "sts = file.read() \n",
        "print(sts)"
      ]
    },
    {
      "cell_type": "code",
      "source": [
        "#Write a list of random names to your file.\n",
        "#add a new student:\n",
        "\n",
        "sts = sts + 'Homam Yacine'\n",
        "\n",
        "#Save and write a new txt file:\n",
        "\n",
        "file = open('/content/sample_data/txt1.txt' , 'w')\n",
        "file.write(sts)\n"
      ],
      "metadata": {
        "id": "ow9aJYRTVoX4"
      },
      "execution_count": null,
      "outputs": []
    },
    {
      "cell_type": "code",
      "source": [
        "#Print the first n lines of the file.\n",
        "\n",
        "file = open(\"/content/sample_data/txt.txt\")\n",
        "\n",
        "\n",
        "number_of_lines = int(input('Give a number of first nlines, n='))\n",
        "\n",
        "for i in range(number_of_lines):\n",
        "\n",
        "    line = file.readline()\n",
        "    print(line)"
      ],
      "metadata": {
        "colab": {
          "base_uri": "https://localhost:8080/"
        },
        "id": "aFDRL7GmV1Jb",
        "outputId": "f24ec96e-8995-4f12-aa9f-7a2b30138625"
      },
      "execution_count": 14,
      "outputs": [
        {
          "output_type": "stream",
          "name": "stdout",
          "text": [
            "Give a number of first nlines, n=4\n",
            "Ahmed Karim\n",
            "\n",
            "Mohamed Mostafa\n",
            "\n",
            "Rashid Hmed\n",
            "\n",
            "\n"
          ]
        }
      ]
    },
    {
      "cell_type": "code",
      "source": [
        "#Print the last n lines of the file.\n",
        "\n",
        "file = open(\"/content/sample_data/txt.txt\")\n",
        "num = int(input('Give a number of last n lines, n'))\n",
        "lines = file.readlines()\n",
        "last_lines = lines[-num:]\n",
        "print(last_lines)"
      ],
      "metadata": {
        "colab": {
          "base_uri": "https://localhost:8080/"
        },
        "id": "w3Wwf6zdWb-4",
        "outputId": "7459e7ed-0cc1-44de-85d1-9f779d51d90b"
      },
      "execution_count": 16,
      "outputs": [
        {
          "output_type": "stream",
          "name": "stdout",
          "text": [
            "Give a number of last n lines, n2\n",
            "['Mohamed Mostafa\\n', 'Rashid Hmed\\n']\n"
          ]
        }
      ]
    },
    {
      "cell_type": "code",
      "source": [
        "#Check if the name x is in the file.\n",
        "\n",
        "def CheckStringExists(user):\n",
        "  if user in file.read():\n",
        "    print('yes')\n",
        "  else:\n",
        "    print('no')\n"
      ],
      "metadata": {
        "id": "2EBNUmn4Y6I6"
      },
      "execution_count": 24,
      "outputs": []
    },
    {
      "cell_type": "code",
      "source": [
        "user = input(\"Please enter you Username: \")\n",
        "\n",
        "CheckStringExists(user)"
      ],
      "metadata": {
        "colab": {
          "base_uri": "https://localhost:8080/"
        },
        "id": "mimOT16aZsoP",
        "outputId": "610f56b0-960d-4f5c-dd80-f763966f0ea8"
      },
      "execution_count": 25,
      "outputs": [
        {
          "output_type": "stream",
          "name": "stdout",
          "text": [
            "Please enter you Username: nazih\n",
            "no\n"
          ]
        }
      ]
    },
    {
      "cell_type": "code",
      "source": [
        "file = open('/content/sample_data/txt1.txt' , 'w')\n",
        "file.write(sts)"
      ],
      "metadata": {
        "id": "BIM6WQM3aIqJ"
      },
      "execution_count": null,
      "outputs": []
    },
    {
      "cell_type": "code",
      "source": [
        "#Write a Python program to generate 26 text files named A.txt, B.txt, and so on up to Z.txt.\n",
        "\n",
        "import string\n",
        "\n",
        "alphabets= string.ascii_lowercase\n",
        "for l in alphabets:\n",
        "    with open(l,'w') as file:\n",
        "        file.write(l)"
      ],
      "metadata": {
        "id": "13BJd9VMabeb"
      },
      "execution_count": 28,
      "outputs": []
    }
  ]
}