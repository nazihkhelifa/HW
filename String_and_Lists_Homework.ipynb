{
  "nbformat": 4,
  "nbformat_minor": 0,
  "metadata": {
    "colab": {
      "name": "String and Lists Homework.ipynb",
      "provenance": [],
      "authorship_tag": "ABX9TyOyD9PBfok3UB5/64h4Jwha",
      "include_colab_link": true
    },
    "kernelspec": {
      "name": "python3",
      "display_name": "Python 3"
    },
    "language_info": {
      "name": "python"
    }
  },
  "cells": [
    {
      "cell_type": "markdown",
      "metadata": {
        "id": "view-in-github",
        "colab_type": "text"
      },
      "source": [
        "<a href=\"https://colab.research.google.com/github/nazihkhelifa/HW/blob/main/String_and_Lists_Homework.ipynb\" target=\"_parent\"><img src=\"https://colab.research.google.com/assets/colab-badge.svg\" alt=\"Open In Colab\"/></a>"
      ]
    },
    {
      "cell_type": "code",
      "source": [
        "A = range(1,301,1)"
      ],
      "metadata": {
        "colab": {
          "base_uri": "https://localhost:8080/"
        },
        "id": "TgtfptN-TJh3",
        "outputId": "cb8236ee-0927-42e3-92c6-efa66e91741f"
      },
      "execution_count": null,
      "outputs": [
        {
          "output_type": "execute_result",
          "data": {
            "text/plain": [
              "range(1, 301)"
            ]
          },
          "metadata": {},
          "execution_count": 25
        }
      ]
    },
    {
      "cell_type": "code",
      "source": [
        "print('the first number in the list is :',A[0] ,'and the last on is:' ,  A[299])"
      ],
      "metadata": {
        "colab": {
          "base_uri": "https://localhost:8080/"
        },
        "id": "7ZCY8H92Zw-v",
        "outputId": "6023ed6a-244f-4b85-8709-fd6bc74ad35c"
      },
      "execution_count": null,
      "outputs": [
        {
          "output_type": "stream",
          "name": "stdout",
          "text": [
            "the first number in the list is : 1 and the last on is: 300\n"
          ]
        }
      ]
    },
    {
      "cell_type": "code",
      "execution_count": null,
      "metadata": {
        "id": "jSp-tHOf30p1"
      },
      "outputs": [],
      "source": [
        "even_list = [ n  for n in A if n % 2 ==  0 ]"
      ]
    },
    {
      "cell_type": "code",
      "source": [
        "len(even_list)"
      ],
      "metadata": {
        "colab": {
          "base_uri": "https://localhost:8080/"
        },
        "id": "PXzvQycnbBYm",
        "outputId": "47fbd5b8-afc8-4271-b0ad-03f6d145237f"
      },
      "execution_count": null,
      "outputs": [
        {
          "output_type": "execute_result",
          "data": {
            "text/plain": [
              "150"
            ]
          },
          "metadata": {},
          "execution_count": 34
        }
      ]
    },
    {
      "cell_type": "code",
      "source": [
        "print('the first even number in the list is :',even_list[0] ,'and the last on is:' ,  even_list[149])"
      ],
      "metadata": {
        "colab": {
          "base_uri": "https://localhost:8080/"
        },
        "id": "9MiaRNiuapYD",
        "outputId": "a5d8c91a-ab14-40b7-b3ba-c86779fc280e"
      },
      "execution_count": null,
      "outputs": [
        {
          "output_type": "stream",
          "name": "stdout",
          "text": [
            "the first even number in the list is : 2 and the last on is: 300\n"
          ]
        }
      ]
    },
    {
      "cell_type": "code",
      "source": [
        "print([ i for i in even_list  if  i == 57 ], \"57 doesn't existe \")"
      ],
      "metadata": {
        "colab": {
          "base_uri": "https://localhost:8080/"
        },
        "id": "0PrY3-JJbq1t",
        "outputId": "038dde6b-5da4-4a51-c3f8-138e610b4860"
      },
      "execution_count": null,
      "outputs": [
        {
          "output_type": "stream",
          "name": "stdout",
          "text": [
            "[] 57 doesn't existe \n"
          ]
        }
      ]
    },
    {
      "cell_type": "code",
      "source": [
        "even_sqr_list = [ n*n  for n in A if n % 2 ==  0 ]"
      ],
      "metadata": {
        "id": "olnUVBKjbT66"
      },
      "execution_count": null,
      "outputs": []
    },
    {
      "cell_type": "code",
      "source": [
        "print('the first even number in the list is :',even_sqr_list[0] ,'and the last on is:' ,  even_sqr_list[149])"
      ],
      "metadata": {
        "colab": {
          "base_uri": "https://localhost:8080/"
        },
        "id": "LKcfoiK6beA5",
        "outputId": "987b2879-a51f-471e-e997-c594ce16369e"
      },
      "execution_count": null,
      "outputs": [
        {
          "output_type": "stream",
          "name": "stdout",
          "text": [
            "the first even number in the list is : 4 and the last on is: 90000\n"
          ]
        }
      ]
    }
  ]
}