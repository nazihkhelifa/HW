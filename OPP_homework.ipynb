{
  "nbformat": 4,
  "nbformat_minor": 0,
  "metadata": {
    "colab": {
      "name": "OPP homework.ipynb",
      "provenance": [],
      "authorship_tag": "ABX9TyNk14qeMKWvcByDLnkUkO43",
      "include_colab_link": true
    },
    "kernelspec": {
      "name": "python3",
      "display_name": "Python 3"
    },
    "language_info": {
      "name": "python"
    }
  },
  "cells": [
    {
      "cell_type": "markdown",
      "metadata": {
        "id": "view-in-github",
        "colab_type": "text"
      },
      "source": [
        "<a href=\"https://colab.research.google.com/github/nazihkhelifa/HW/blob/main/OPP_homework.ipynb\" target=\"_parent\"><img src=\"https://colab.research.google.com/assets/colab-badge.svg\" alt=\"Open In Colab\"/></a>"
      ]
    },
    {
      "cell_type": "markdown",
      "source": [
        "Write a Python class named Rectangle constructed by a length and width and a method which will compute the area of a rectangle.\n",
        "\n"
      ],
      "metadata": {
        "id": "asIZQPV2gAZy"
      }
    },
    {
      "cell_type": "code",
      "source": [
        "class Rectangle():\n",
        "  \n",
        "    def __init__(self, l , w ):\n",
        "      self.lenght = l \n",
        "      self.width = w\n",
        "  \n",
        "    def Reactangle_area(self):\n",
        "      return self.lenght*self.width \n"
      ],
      "metadata": {
        "id": "VVIc6LPYdxFo"
      },
      "execution_count": null,
      "outputs": []
    },
    {
      "cell_type": "code",
      "source": [
        "  \n",
        "print('rectangle aera: ' ,Rectangle(2,7).Reactangle_area())"
      ],
      "metadata": {
        "colab": {
          "base_uri": "https://localhost:8080/"
        },
        "id": "Q8_1grole24v",
        "outputId": "4e222f77-d04e-479b-8891-ebae743a7a3b"
      },
      "execution_count": null,
      "outputs": [
        {
          "output_type": "stream",
          "name": "stdout",
          "text": [
            "rectangle aera:  14\n"
          ]
        }
      ]
    },
    {
      "cell_type": "markdown",
      "source": [
        "Create a Vehicle class with max_speed and mileage instance attributes\n",
        "\n"
      ],
      "metadata": {
        "id": "emJUFQ2Ff5lW"
      }
    },
    {
      "cell_type": "code",
      "source": [
        "class Vehicle():\n",
        "  def __init__(self,s,m ):\n",
        "    self.max_speed = s\n",
        "    self.mileage = m    \n",
        "\n"
      ],
      "metadata": {
        "id": "2DiclIAWf40d"
      },
      "execution_count": null,
      "outputs": []
    },
    {
      "cell_type": "code",
      "source": [
        "print('the speed is : ' ,Vehicle(2,3).max_speed, 'the mileage is :' , Vehicle(2,3).mileage )"
      ],
      "metadata": {
        "colab": {
          "base_uri": "https://localhost:8080/"
        },
        "id": "Y62iq_REiPbT",
        "outputId": "e1466c45-24a9-428f-dc3f-33a3facd888f"
      },
      "execution_count": null,
      "outputs": [
        {
          "output_type": "stream",
          "name": "stdout",
          "text": [
            "the speed is :  2 the mileage is : 3\n"
          ]
        }
      ]
    },
    {
      "cell_type": "markdown",
      "source": [
        "Create a Vehicle class without any variables and methods.\n",
        "\n"
      ],
      "metadata": {
        "id": "HCtWNhlrizb5"
      }
    },
    {
      "cell_type": "code",
      "source": [
        "class Vehicle():\n",
        "  pass\n"
      ],
      "metadata": {
        "id": "zODddMbTjzHd"
      },
      "execution_count": null,
      "outputs": []
    },
    {
      "cell_type": "markdown",
      "source": [
        "Create a child class Bus that will inherit all of the variables and methods of the Vehicle class\n",
        "\n"
      ],
      "metadata": {
        "id": "KW_5UqMXj6k_"
      }
    },
    {
      "cell_type": "code",
      "source": [
        "class Vehicle():\n",
        "  def __init__(self,s,m ):\n",
        "    self.max_speed = s\n",
        "    self.mileage = m    \n",
        "\n",
        "\n",
        "class Bus(Vehicle):\n",
        "  pass\n"
      ],
      "metadata": {
        "id": "ac7Zhx0wj5Fz"
      },
      "execution_count": null,
      "outputs": []
    },
    {
      "cell_type": "code",
      "source": [
        "D = Bus(5,3)\n",
        "\n",
        "print( 'the bus Max speed is', D.max_speed, 'and the mileade is :', D.mileage )"
      ],
      "metadata": {
        "colab": {
          "base_uri": "https://localhost:8080/"
        },
        "id": "4aSCq64SkakN",
        "outputId": "cbad6047-0b52-4418-d2c3-2d9322409f38"
      },
      "execution_count": null,
      "outputs": [
        {
          "output_type": "stream",
          "name": "stdout",
          "text": [
            "the bus Max speed is 5 and the mileade is : 3\n"
          ]
        }
      ]
    }
  ]
}