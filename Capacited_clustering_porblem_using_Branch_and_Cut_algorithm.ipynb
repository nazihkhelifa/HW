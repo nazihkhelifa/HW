{
  "nbformat": 4,
  "nbformat_minor": 0,
  "metadata": {
    "colab": {
      "name": "Capacited clustering porblem using Branch and Cut algorithm",
      "provenance": [],
      "collapsed_sections": [],
      "authorship_tag": "ABX9TyM1EFzG6t8h4IDBzU9EM0yx",
      "include_colab_link": true
    },
    "kernelspec": {
      "name": "python3",
      "display_name": "Python 3"
    },
    "language_info": {
      "name": "python"
    }
  },
  "cells": [
    {
      "cell_type": "markdown",
      "metadata": {
        "id": "view-in-github",
        "colab_type": "text"
      },
      "source": [
        "<a href=\"https://colab.research.google.com/github/nazihkhelifa/HW/blob/main/Capacited_clustering_porblem_using_Branch_and_Cut_algorithm.ipynb\" target=\"_parent\"><img src=\"https://colab.research.google.com/assets/colab-badge.svg\" alt=\"Open In Colab\"/></a>"
      ]
    },
    {
      "cell_type": "markdown",
      "source": [
        "# Capacited clustering porblem using Branch and Cut algorithm"
      ],
      "metadata": {
        "id": "_SU7Us80cHTG"
      }
    },
    {
      "cell_type": "markdown",
      "source": [
        "Problem Description\n",
        "The Capacitated Clustering Problem (CCP) consists of forming a specified number of clusters or groups from a set of elements in such a way that the sum of the weights of the elements in each cluster is within some capacity limits, and the sum of the benefits between the pairs of elements in the same cluster is maximized. This problem arises in the context of facility planners at mail processing and distribution. The Maximally Diverse Grouping Problem (MDGP) is a special case of the CCP in which all the elements have a weight of one unit.\n",
        "Given a graph G = (V, E) where V is a set of n nodes and E is a set of edges, let wi ≥ 0 be the weight of node i ∈ V and let cij be the benefit of edge (i, j) ∈ E. The Capacitated Clustering Problem (CCP) consists of partition V into p clusters in such a way that the sum of the weights of the elements in each cluster is within some integer capacity limits, L and U, and the sum of the benefits between the pairs of elements in the same cluster is maximized.\n",
        "The CCP can be formulated as a quadratic integer program with binary variables xik that take the value of 1 if element i is in cluster k and 0 otherwise.\n",
        "\n"
      ],
      "metadata": {
        "id": "dDR537uucjNB"
      }
    },
    {
      "cell_type": "markdown",
      "source": [
        "![cluster.png](data:image/png;base64,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)\n"
      ],
      "metadata": {
        "id": "IUBHFw43fXch"
      }
    },
    {
      "cell_type": "code",
      "execution_count": null,
      "metadata": {
        "colab": {
          "base_uri": "https://localhost:8080/"
        },
        "id": "trhYKC0p7x7N",
        "outputId": "827fd2a6-5489-42b1-beca-7ea09bf8ddaa"
      },
      "outputs": [
        {
          "output_type": "stream",
          "name": "stdout",
          "text": [
            "Requirement already satisfied: cplex in /usr/local/lib/python3.7/dist-packages (22.1.0.0)\n",
            "Requirement already satisfied: docplex in /usr/local/lib/python3.7/dist-packages (2.23.222)\n",
            "Requirement already satisfied: six in /usr/local/lib/python3.7/dist-packages (from docplex) (1.15.0)\n"
          ]
        }
      ],
      "source": [
        "pip install cplex docplex"
      ]
    },
    {
      "cell_type": "code",
      "source": [
        "#!/usr/bin/env python\n",
        "# coding: utf-8\n",
        "\n",
        "import os\n",
        "import numpy as np\n",
        "import pandas as pd\n",
        "import sklearn as sk\n",
        "import matplotlib.pyplot as plt\n",
        "import time\n",
        "\n",
        "from scipy.spatial import distance_matrix\n",
        "\n",
        "# In[14]:\n",
        "\n",
        "\n",
        "import sys\n",
        "import docplex.mp\n",
        "\n",
        "# try:\n",
        "#     import docplex.mp\n",
        "# except:\n",
        "#     if hasattr(sys, 'real_prefix'):\n",
        "#         get_ipython().system('pip install docplex -q')\n",
        "#     else:\n",
        "#         get_ipython().system('pip install --user docplex -q')\n",
        "\n",
        "from docplex.mp.model import Model\n",
        "\n",
        "\n",
        "\n",
        "\n",
        "\n",
        "\n",
        "for file in file_names:\n",
        "  file_name = os.path.join(dir_name, 'Sample Dataset\\\\', file + '.csv')\n",
        "  df = pd.read_csv(file_name, encoding='latin1', error_bad_lines=False)\n",
        "\n",
        "cust_size = df.shape[0] - 1\n",
        "   \n",
        "    # print('Number of customers:', cust_size)\n",
        "n = cust_size\n",
        "    #df2 for coord \n",
        "df2 = df.iloc[:, 1:3]\n",
        "df2.loc[n + 1, :] = df2.loc[0, :]\n",
        "\n",
        "dist_matrix = pd.DataFrame(distance_matrix(df2.values, df2.values), index=df2.index, columns=df2.index)\n",
        "\n",
        "\n",
        "#Custmer nodes\n",
        "C = [i for i in range(1, n + 1)]\n",
        "#Total nodes\n",
        "Cc = [0] + C + [n + 1]\n",
        "\n",
        "#number of vehicles and limit capacity\n",
        "V = [i for i in range(1, 26)]\n",
        "Q = df['CAPACITY'][0]\n",
        "\n",
        "    # cluser and thier limit quantity\n",
        "Clus = [j for j in range(1,4)]\n",
        "Q = { j: np.random.randint(650,700)  for j in Clus}\n",
        "\n",
        "    #request = {i: df['DEMAND'][i] for i in range(1, n + 1)}\n",
        "d = [  df['DEMAND'][i] for i in range(n + 1)]\n",
        "    #Number of request\n",
        "R = [i for i in range(len(d))]\n",
        "\n",
        "  # Variable set\n",
        "X = [(i, j) for i in R for j in Clus ]\n",
        "Y = [j for j in Clus ]\n",
        "\n",
        "   # Variables\n",
        "x = mdl.binary_var_dict(X, name='x')\n",
        "y = mdl.binary_var_dict(Y, name='y')\n",
        "\n",
        "    # Calculate distance, time & cost\n",
        "c = {(i, j): dist_matrix[i][j] for i in Cc for j in Clus }\n",
        "t = {(i, j): dist_matrix[i][j] for i in Cc for j in Cc}\n",
        "\n",
        "COST = {(i, j): np.random.randint(0,1) for i in R for j in Clus}\n"
      ],
      "metadata": {
        "id": "D0wkfIFF8Fn1"
      },
      "execution_count": null,
      "outputs": []
    },
    {
      "cell_type": "code",
      "source": [
        "\n",
        "#the Clustering optimization model \n",
        "time_start = time.time()\n",
        "mdl = Model('CLUSTER')\n",
        "\n",
        "#min ( distane between node i and cluster j)* for each node i to the cluter j\n",
        "mdl.minimize( mdl.sum(c[i,j] * x[i,j] for i,j in X) )\n",
        "#Ensure that each node have a single cluster \n",
        "mdl.add_constraints( mdl.sum(x[i,j] for j in Clus ) == 1 for i in R)\n",
        "# sum of the total request demands  is less than Q of cluster j\n",
        "mdl.add_constraints(mdl.sum( d[i] * x[i, j] for i in  range(n + 1) ) <=  Q[j]  for j in Clus   )\n"
      ],
      "metadata": {
        "id": "nlmxa4u_9hCX"
      },
      "execution_count": null,
      "outputs": []
    },
    {
      "cell_type": "code",
      "source": [
        "solution = mdl.solve(log_output = True)"
      ],
      "metadata": {
        "id": "IuzcwtJxCi37",
        "colab": {
          "base_uri": "https://localhost:8080/"
        },
        "outputId": "772c7902-1236-48c9-d320-701162edd047"
      },
      "execution_count": null,
      "outputs": [
        {
          "output_type": "stream",
          "name": "stdout",
          "text": [
            "Version identifier: 22.1.0.0 | 2022-03-25 | 54982fbec\n",
            "CPXPARAM_Read_DataCheck                          1\n",
            "Tried aggregator 1 time.\n",
            "MIP Presolve eliminated 1 rows and 6 columns.\n",
            "MIP Presolve modified 6 coefficients.\n",
            "Reduced MIP has 103 rows, 300 columns, and 600 nonzeros.\n",
            "Reduced MIP has 300 binaries, 0 generals, 0 SOSs, and 0 indicators.\n",
            "Presolve time = 0.01 sec. (0.59 ticks)\n",
            "Found incumbent of value 3309.080884 after 0.01 sec. (1.25 ticks)\n",
            "Probing time = 0.00 sec. (0.09 ticks)\n",
            "Tried aggregator 1 time.\n",
            "Detecting symmetries...\n",
            "Reduced MIP has 103 rows, 300 columns, and 600 nonzeros.\n",
            "Reduced MIP has 300 binaries, 0 generals, 0 SOSs, and 0 indicators.\n",
            "Presolve time = 0.01 sec. (0.45 ticks)\n",
            "Probing time = 0.00 sec. (0.09 ticks)\n",
            "Clique table members: 100.\n",
            "MIP emphasis: balance optimality and feasibility.\n",
            "MIP search method: dynamic search.\n",
            "Parallel mode: deterministic, using up to 2 threads.\n",
            "Root relaxation solution time = 0.00 sec. (0.22 ticks)\n",
            "\n",
            "        Nodes                                         Cuts/\n",
            "   Node  Left     Objective  IInf  Best Integer    Best Bound    ItCnt     Gap\n",
            "\n",
            "*     0+    0                         3309.0809       16.1245            99.51%\n",
            "*     0+    0                         3216.1184       16.1245            99.50%\n",
            "      0     0     3158.5791     2     3216.1184     3158.5791       14    1.79%\n",
            "*     0+    0                         3158.8525     3158.5791             0.01%\n",
            "\n",
            "Root node processing (before b&c):\n",
            "  Real time             =    0.05 sec. (2.75 ticks)\n",
            "Parallel b&c, 2 threads:\n",
            "  Real time             =    0.00 sec. (0.00 ticks)\n",
            "  Sync time (average)   =    0.00 sec.\n",
            "  Wait time (average)   =    0.00 sec.\n",
            "                          ------------\n",
            "Total (root+branch&cut) =    0.05 sec. (2.75 ticks)\n"
          ]
        }
      ]
    },
    {
      "cell_type": "code",
      "source": [
        "print(solution)"
      ],
      "metadata": {
        "id": "sJLlZ0DvEGn1",
        "colab": {
          "base_uri": "https://localhost:8080/"
        },
        "outputId": "4408b02b-3ec6-47f7-9ccf-7d31e0729ea1"
      },
      "execution_count": null,
      "outputs": [
        {
          "output_type": "stream",
          "name": "stdout",
          "text": [
            "solution for: CLUSTER\n",
            "objective: 3158.85\n",
            "x_0_3=1\n",
            "x_1_1=1\n",
            "x_2_2=1\n",
            "x_3_3=1\n",
            "x_4_3=1\n",
            "x_5_3=1\n",
            "x_6_2=1\n",
            "x_7_3=1\n",
            "x_8_3=1\n",
            "x_9_3=1\n",
            "x_10_3=1\n",
            "x_11_3=1\n",
            "x_12_2=1\n",
            "x_13_2=1\n",
            "x_14_2=1\n",
            "x_15_2=1\n",
            "x_16_2=1\n",
            "x_17_2=1\n",
            "x_18_2=1\n",
            "x_19_2=1\n",
            "x_20_3=1\n",
            "x_21_3=1\n",
            "x_22_3=1\n",
            "x_23_3=1\n",
            "x_24_3=1\n",
            "x_25_1=1\n",
            "x_26_3=1\n",
            "x_27_3=1\n",
            "x_28_3=1\n",
            "x_29_3=1\n",
            "x_30_3=1\n",
            "x_31_3=1\n",
            "x_32_3=1\n",
            "x_33_1=1\n",
            "x_34_3=1\n",
            "x_35_3=1\n",
            "x_36_3=1\n",
            "x_37_3=1\n",
            "x_38_3=1\n",
            "x_39_3=1\n",
            "x_40_3=1\n",
            "x_41_3=1\n",
            "x_42_3=1\n",
            "x_43_3=1\n",
            "x_44_3=1\n",
            "x_45_3=1\n",
            "x_46_1=1\n",
            "x_47_3=1\n",
            "x_48_3=1\n",
            "x_49_3=1\n",
            "x_50_3=1\n",
            "x_51_3=1\n",
            "x_52_3=1\n",
            "x_53_3=1\n",
            "x_54_1=1\n",
            "x_55_3=1\n",
            "x_56_1=1\n",
            "x_57_1=1\n",
            "x_58_1=1\n",
            "x_59_3=1\n",
            "x_60_3=1\n",
            "x_61_3=1\n",
            "x_62_1=1\n",
            "x_63_1=1\n",
            "x_64_3=1\n",
            "x_65_3=1\n",
            "x_66_3=1\n",
            "x_67_3=1\n",
            "x_68_3=1\n",
            "x_69_3=1\n",
            "x_70_1=1\n",
            "x_71_1=1\n",
            "x_72_3=1\n",
            "x_73_1=1\n",
            "x_74_1=1\n",
            "x_75_1=1\n",
            "x_76_1=1\n",
            "x_77_1=1\n",
            "x_78_1=1\n",
            "x_79_1=1\n",
            "x_80_1=1\n",
            "x_81_1=1\n",
            "x_82_1=1\n",
            "x_83_1=1\n",
            "x_84_1=1\n",
            "x_85_2=1\n",
            "x_86_1=1\n",
            "x_87_1=1\n",
            "x_88_2=1\n",
            "x_89_1=1\n",
            "x_90_1=1\n",
            "x_91_1=1\n",
            "x_92_2=1\n",
            "x_93_2=1\n",
            "x_94_2=1\n",
            "x_95_2=1\n",
            "x_96_2=1\n",
            "x_97_2=1\n",
            "x_98_2=1\n",
            "x_99_2=1\n",
            "x_100_2=1\n",
            "\n"
          ]
        }
      ]
    },
    {
      "cell_type": "code",
      "source": [
        "CLUS_1 = [x[i,1] for i in R if x[i, 1].solution_value == 1]"
      ],
      "metadata": {
        "id": "dSPd2fpIdCjc"
      },
      "execution_count": null,
      "outputs": []
    },
    {
      "cell_type": "code",
      "source": [
        ""
      ],
      "metadata": {
        "id": "xcsk9e_Ddc5r"
      },
      "execution_count": null,
      "outputs": []
    },
    {
      "cell_type": "code",
      "source": [
        "CLUS_2 = [x[i,2] for i in R if x[i, 2].solution_value == 1]"
      ],
      "metadata": {
        "id": "Z0Pr1OlwF9cr"
      },
      "execution_count": null,
      "outputs": []
    },
    {
      "cell_type": "code",
      "source": [
        "#clus nodes \n",
        "i_1 =[]\n",
        "i_2 =[]\n",
        "i_3 =[]\n",
        "\n",
        "CLUS_1 = [x[i,1] for i in R if x[i, 1].solution_value == 1]\n",
        "CLUS_2 = [x[i,2] for i in R if x[i, 2].solution_value == 1]\n",
        "CLUS_3 = [x[i,3] for i in R if x[i, 1].solution_value == 1]\n",
        "\n",
        "active_cluster =[  a for a in X if x[a].solution_value> 0.9]\n",
        "\n",
        "for i,j in active_cluster:\n",
        "  if j ==1:\n",
        "    i_1.append(i)\n",
        "  if j ==2:\n",
        "    i_2.append(i) \n",
        "  if j ==3:\n",
        "    i_3.append(i)"
      ],
      "metadata": {
        "id": "lG4GhZGkj2hh"
      },
      "execution_count": null,
      "outputs": []
    },
    {
      "cell_type": "code",
      "source": [
        "plt.scatter(df[\"XCOORD\"][1:],df[\"YCOORD\"][1:],c='b')\n",
        "for i in C:\n",
        "  plt.annotate('$d_%d=%d$'%(i,d[i]),(df[\"XCOORD\"][i]+2,df[\"YCOORD\"][i]))\n",
        "\n",
        "#for each i,j in active_cluster\n",
        "\n",
        "for i in i_1 :\n",
        "#Coloring the active arcs\n",
        "  plt.scatter(df[\"XCOORD\"][i],df[\"YCOORD\"][i] ,c='g')\n",
        "for i in i_2 :\n",
        "#Coloring the active arcs\n",
        "  plt.scatter(df[\"XCOORD\"][i],df[\"YCOORD\"][i] ,c='r')\n",
        "\n",
        "for i in i_3 :\n",
        "#Coloring the active arcs\n",
        "  plt.scatter(df[\"XCOORD\"][i],df[\"YCOORD\"][i] ,c='b')\n",
        "\n",
        "\n",
        "plt.plot(df[\"XCOORD\"][0],df[\"YCOORD\"][0],c='k' ,marker='s')\n",
        "#Plotting the solution\n",
        "\n",
        "\n",
        "plt.show()\n"
      ],
      "metadata": {
        "id": "mHmPmGXtMl7f",
        "colab": {
          "base_uri": "https://localhost:8080/",
          "height": 265
        },
        "outputId": "be7ed042-1148-4e50-a700-28d18b5adb30"
      },
      "execution_count": null,
      "outputs": [
        {
          "output_type": "display_data",
          "data": {
            "text/plain": [
              "<Figure size 432x288 with 1 Axes>"
            ],
            "image/png": "[encoded data removed]"
          },
          "metadata": {
            "needs_background": "light"
          }
        }
      ]
    },
    {
      "cell_type": "code",
      "source": [
        "\n",
        "print('the total demand', np.sum(df[\"DEMAND\"][i_1]) + np.sum(df[\"DEMAND\"][i_2]) +np.sum(df[\"DEMAND\"][i_3]))\n",
        "print('CLUS1 large' ,Q[1] )\n",
        "print('CLUS1 large' ,Q[2] )\n",
        "print('CLUS1 large' ,Q[3] )\n",
        "print('total Clusters large' ,Q[1] +Q[2] +Q[3] )\n"
      ],
      "metadata": {
        "id": "w6j0XLw3g1Ku"
      },
      "execution_count": null,
      "outputs": []
    }
  ]
}