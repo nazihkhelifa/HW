{
  "nbformat": 4,
  "nbformat_minor": 0,
  "metadata": {
    "colab": {
      "name": "Functions Homework.ipynb",
      "provenance": [],
      "authorship_tag": "ABX9TyPF3Noab//zG7GydR65zVLI",
      "include_colab_link": true
    },
    "kernelspec": {
      "name": "python3",
      "display_name": "Python 3"
    },
    "language_info": {
      "name": "python"
    }
  },
  "cells": [
    {
      "cell_type": "markdown",
      "metadata": {
        "id": "view-in-github",
        "colab_type": "text"
      },
      "source": [
        "<a href=\"https://colab.research.google.com/github/nazihkhelifa/HW/blob/main/Functions_Homework.ipynb\" target=\"_parent\"><img src=\"https://colab.research.google.com/assets/colab-badge.svg\" alt=\"Open In Colab\"/></a>"
      ]
    },
    {
      "cell_type": "markdown",
      "source": [
        "Write a Python function that checks whether a passed string is palindrome or not. A palindrome is a word, phrase, or sequence that reads the same backward as forward, e.g., madam or nurses run.\n",
        "\n"
      ],
      "metadata": {
        "id": "JEZlhkjOlfb6"
      }
    },
    {
      "cell_type": "code",
      "execution_count": null,
      "metadata": {
        "id": "_QHSCdeZk_U3"
      },
      "outputs": [],
      "source": [
        ""
      ]
    },
    {
      "cell_type": "markdown",
      "source": [
        "Write a Python function that takes a number as a parameter and checks if the number is prime or not. A prime number (or a prime) is a natural number greater than 1 and that has no positive divisors other than 1 and itself.\n",
        "\n"
      ],
      "metadata": {
        "id": "A3qeIS3LloBv"
      }
    },
    {
      "cell_type": "code",
      "source": [
        "import math as m\n"
      ],
      "metadata": {
        "id": "uwLLTU6Rlo5P"
      },
      "execution_count": null,
      "outputs": []
    },
    {
      "cell_type": "code",
      "source": [
        "# i'm using the Ibn El-haithm theorme to finde the Prime number or not\n",
        "def prime_number(n):\n",
        "  c = ( m.factorial(n +1) / m.factorial(n) )\n",
        "  if c == 0:\n",
        "    return 'NO'\n",
        "  else:\n",
        "    return 'YES'"
      ],
      "metadata": {
        "id": "vwBQoSRal8XL"
      },
      "execution_count": null,
      "outputs": []
    },
    {
      "cell_type": "code",
      "source": [
        "\n",
        "print(prime_number(5))\n"
      ],
      "metadata": {
        "colab": {
          "base_uri": "https://localhost:8080/"
        },
        "id": "ptnFw7CUmbmZ",
        "outputId": "1ffef68a-1349-447d-85ef-84af5558cf7a"
      },
      "execution_count": null,
      "outputs": [
        {
          "output_type": "stream",
          "name": "stdout",
          "text": [
            "YES\n"
          ]
        }
      ]
    },
    {
      "cell_type": "markdown",
      "source": [
        "Write a Python function to check whether a number is in a given range.\n",
        "\n"
      ],
      "metadata": {
        "id": "iU7hlvK_p8Hh"
      }
    },
    {
      "cell_type": "code",
      "source": [
        "def Range_checker():\n",
        " \n",
        "  x = float(input('give a number to check ')) \n",
        "  a = float (input('give a range for a : [a,b] ' )) \n",
        "  b = float (input('give a range for b :[a,b]' ) )\n",
        "\n",
        "  if x >= a and x <= b:\n",
        "    print('x in the range')\n",
        "  if x < a:\n",
        "    print('is not in the range') \n",
        "  if x > b :\n",
        "    print('is not in the range') \n"
      ],
      "metadata": {
        "id": "fPpNaGmFp9B6"
      },
      "execution_count": null,
      "outputs": []
    },
    {
      "cell_type": "code",
      "source": [
        "Range_checker()"
      ],
      "metadata": {
        "colab": {
          "base_uri": "https://localhost:8080/"
        },
        "id": "pvQvWkKZmF-f",
        "outputId": "8de8aff2-4660-4f4b-f966-72183184740e"
      },
      "execution_count": null,
      "outputs": [
        {
          "output_type": "stream",
          "name": "stdout",
          "text": [
            "give a number to check 3\n",
            "give a range for a : [a,b] 4\n",
            "give a range for b :[a,b]6\n",
            "is not in the range\n"
          ]
        }
      ]
    },
    {
      "cell_type": "markdown",
      "source": [
        "Write a Python function to calculate the factorial of a number (a non-negative integer). The function accepts the number as an argument."
      ],
      "metadata": {
        "id": "ty0ke6J_nfzS"
      }
    },
    {
      "cell_type": "code",
      "source": [
        "x = int(input('calculate a factorial of x, x ='))\n",
        "if x < 0 :\n",
        "  print('error')\n",
        "if x > 0:\n",
        "  i = 1\n",
        "  for i in range(1, x ):\n",
        "    i = i * x\n",
        "  print( \"the factoriel of \", x ,\" is \", i)"
      ],
      "metadata": {
        "colab": {
          "base_uri": "https://localhost:8080/"
        },
        "id": "I6AWAd18nhUP",
        "outputId": "c8be6e9b-c88c-4db5-cb79-863cdbf7a718"
      },
      "execution_count": null,
      "outputs": [
        {
          "output_type": "stream",
          "name": "stdout",
          "text": [
            "calculate a factorial of x, x =4\n",
            "the factoriel of  4  is  12\n"
          ]
        }
      ]
    },
    {
      "cell_type": "markdown",
      "source": [
        "Write a Python program to reverse a string.\n",
        "\n"
      ],
      "metadata": {
        "id": "-sPqkdqmvpVd"
      }
    },
    {
      "cell_type": "code",
      "source": [
        "str = input('give a string')   \n",
        "print (\"The original string  is : \",str)   \n",
        "reverse_String = \"\"  \n",
        "c = len(str)  \n",
        "while c > 0:   \n",
        "    reverse_String += str[ c - 1 ]   \n",
        "    c = c- 1   \n",
        "print (\"The reversed string using a while loop is : \",reverse_String )"
      ],
      "metadata": {
        "colab": {
          "base_uri": "https://localhost:8080/"
        },
        "id": "PJU2j-sNvrGq",
        "outputId": "64ddd19c-5c0c-4bd2-815d-24b3ff63262e"
      },
      "execution_count": null,
      "outputs": [
        {
          "output_type": "stream",
          "name": "stdout",
          "text": [
            "give a stringnazih\n",
            "The original string  is :  nazih\n",
            "The reversed string using a while loop is :  hizan\n"
          ]
        }
      ]
    },
    {
      "cell_type": "markdown",
      "source": [
        "Write a Python function to sum all the numbers in a list.\n",
        "\n"
      ],
      "metadata": {
        "id": "21DsinXjvreM"
      }
    },
    {
      "cell_type": "code",
      "source": [
        "l = int(input('len of the list , L ='))\n",
        "o = 0\n",
        "for s in range(1,l +1):\n",
        "  o = o + s\n",
        "  \n",
        "print(o)"
      ],
      "metadata": {
        "colab": {
          "base_uri": "https://localhost:8080/"
        },
        "id": "XMNd7B9qvtXR",
        "outputId": "834521eb-5136-48cf-f6ef-a8ec30ebdbd8"
      },
      "execution_count": null,
      "outputs": [
        {
          "output_type": "stream",
          "name": "stdout",
          "text": [
            "len of the list , L =10\n",
            "55\n"
          ]
        }
      ]
    },
    {
      "cell_type": "markdown",
      "source": [
        "Write a Python function to find the Max of three numbers.\n",
        "\n",
        "\n"
      ],
      "metadata": {
        "id": "ERmqK6zQzEIq"
      }
    },
    {
      "cell_type": "code",
      "source": [
        "\n",
        "\n",
        "a=int(input(\"Enter first number: \"));\n",
        "\n",
        "b=int(input(\"Enter second number: \"));\n",
        "\n",
        "c=int(input(\"Enter Third number: \"));\n",
        "\n",
        "def f():\n",
        "\n",
        "    if(a>=b) and (a>=c):\n",
        "\n",
        "        l=a\n",
        "\n",
        "    elif(b>=a) and (b>=c):\n",
        "\n",
        "         l=b\n",
        "\n",
        "    else:\n",
        "\n",
        "         l=c\n",
        "\n",
        "    print(\"The4 Max number among  the three is\",l)\n",
        "\n",
        "f()"
      ],
      "metadata": {
        "colab": {
          "base_uri": "https://localhost:8080/"
        },
        "id": "BMY1bA-EzFUo",
        "outputId": "1ec9a49b-4b0b-4a6a-8144-c95c02ff658b"
      },
      "execution_count": null,
      "outputs": [
        {
          "output_type": "stream",
          "name": "stdout",
          "text": [
            "Enter first number: 2\n",
            "Enter second number: 4\n",
            "Enter Third number: 6\n",
            "tHE Max number among  the three is 6\n"
          ]
        }
      ]
    }
  ]
}